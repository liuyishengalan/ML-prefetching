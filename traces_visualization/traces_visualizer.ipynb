{
 "cells": [
  {
   "cell_type": "code",
   "execution_count": null,
   "metadata": {},
   "outputs": [],
   "source": [
    "import pandas as pd\n",
    "from sklearn.preprocessing import LabelEncoder\n",
    "from bokeh.palettes import Spectral11\n",
    "from bokeh.transform import factor_cmap\n",
    "from bokeh.plotting import figure, show\n",
    "from bokeh.io import output_file\n",
    "\n",
    "data = pd.read_csv('../traces/traces.csv', names=['pc', 'delta_in'])\n",
    "df = pd.DataFrame(data)\n",
    "df['pc'] = df['pc'].astype(str)\n",
    "\n",
    "# Encode the 'pc' column\n",
    "pc_encoder = LabelEncoder()\n",
    "df['pc_encoded'] = pc_encoder.fit_transform(df['pc'])\n",
    "\n",
    "df['pc_encoded'] = df['pc_encoded'].astype(str)\n",
    "\n",
    "# Create a color map based on unique PC encoded values\n",
    "palette = Spectral11 if len(df['pc_encoded'].unique()) <= 11 else factor_cmap('pc_encoded', palette='Viridis256', factors=df['pc_encoded'].unique().tolist())\n",
    "\n",
    "p = figure(title=\"Encoded PC vs Delta Scatter Plot\", x_axis_label='Encoded ProgramCounter', y_axis_label='Delta_in', width=800, height=400, background_fill_color=\"#fafafa\")\n",
    "\n",
    "# Customize the plot grid, axes, and tools\n",
    "p.grid.grid_line_color = \"white\"\n",
    "p.xaxis.axis_label_standoff = 12\n",
    "p.yaxis.axis_label_standoff = 12\n",
    "p.toolbar.autohide = True\n",
    "p.scatter('pc_encoded', 'delta_in', source=df, fill_color=palette, legend_field='pc_encoded', size=8)\n",
    "output_file(\"scatter_encoded.html\")\n",
    "show(p)\n"
   ]
  }
 ],
 "metadata": {
  "kernelspec": {
   "display_name": "base",
   "language": "python",
   "name": "python3"
  },
  "language_info": {
   "codemirror_mode": {
    "name": "ipython",
    "version": 3
   },
   "file_extension": ".py",
   "mimetype": "text/x-python",
   "name": "python",
   "nbconvert_exporter": "python",
   "pygments_lexer": "ipython3",
   "version": "3.9.0"
  }
 },
 "nbformat": 4,
 "nbformat_minor": 2
}
