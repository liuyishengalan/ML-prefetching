{
 "cells": [
  {
   "cell_type": "code",
   "execution_count": null,
   "metadata": {},
   "outputs": [],
   "source": [
    "import torch\n",
    "from transformers import GPT2LMHeadModel, GPT2Tokenizer, GPT2ForSequenceClassification\n",
    "import numpy as np\n",
    "import pandas as pd\n",
    "\n",
    "from sklearn.model_selection import train_test_split\n",
    "from sklearn.preprocessing import LabelEncoder\n",
    "from torch.utils.data import DataLoader, TensorDataset\n",
    "import matplotlib.pyplot as plt"
   ]
  },
  {
   "cell_type": "code",
   "execution_count": null,
   "metadata": {},
   "outputs": [],
   "source": [
    "# setup device for torch\n",
    "device = torch.device(\"cuda\" if torch.cuda.is_available() else \"cpu\")\n",
    "print(device)"
   ]
  },
  {
   "cell_type": "code",
   "execution_count": null,
   "metadata": {},
   "outputs": [],
   "source": [
    "# tokenizer = GPT2Tokenizer.from_pretrained('gpt2-large')\n",
    "# model = GPT2LMHeadModel.from_pretrained('gpt2-large')\n",
    "# model = model.to(device)"
   ]
  },
  {
   "cell_type": "code",
   "execution_count": null,
   "metadata": {},
   "outputs": [],
   "source": [
    "def choose_from_top(probs, n=5):\n",
    "    ind = np.argpartition(probs, -n)[-n:]\n",
    "    top_prob = probs[ind]\n",
    "    top_prob = top_prob / np.sum(top_prob) # Normalize\n",
    "    choice = np.random.choice(n, 1, p = top_prob)\n",
    "    token_id = ind[choice][0]\n",
    "    return int(token_id)"
   ]
  },
  {
   "cell_type": "markdown",
   "metadata": {},
   "source": [
    "### Dataset Preparation"
   ]
  },
  {
   "cell_type": "code",
   "execution_count": null,
   "metadata": {},
   "outputs": [],
   "source": [
    "traces_file = 'traces.csv'\n",
    "# nrows = 500000000 # number of traces to use (debug purposes)\n",
    "# nrows = 64000 # number of traces to use (debug purposes)\n",
    "batch_size = 128\n",
    "print('number of traces: ', len(pd.read_csv(traces_file)))\n",
    "# print('number of traces used: ', nrows)\n",
    "\n",
    "# traces = pd.read_csv(traces_file, nrows=nrows)\n",
    "traces = pd.read_csv(traces_file)\n",
    "# Split into train and test\n",
    "train_data, test_data = train_test_split(traces, test_size=0.25)\n",
    "\n",
    "# get number of unique values in each column\n",
    "print('number of unique values to predict: ', traces.nunique()[-1])"
   ]
  },
  {
   "cell_type": "code",
   "execution_count": null,
   "metadata": {},
   "outputs": [],
   "source": [
    "def load_data(data, batch_size):\n",
    "    label_encoder_pc = LabelEncoder()\n",
    "    label_encoder_delta_in = LabelEncoder()\n",
    "    label_encoder_delta_out = LabelEncoder()\n",
    "\n",
    "    # Fit label encoder and transform labels into encoded values\n",
    "    data['pc_encoded'] = label_encoder_pc.fit_transform(data['pc'])\n",
    "    data['delta_in_encoded'] = label_encoder_delta_in.fit_transform(data['delta_in'])\n",
    "    data['delta_out_encoded'] = label_encoder_delta_out.fit_transform(data['delta_out'])\n",
    "\n",
    "    # Convert dataframes to tensors, explicitly specifying the dtype as torch.int64\n",
    "    pc = torch.tensor(data['pc_encoded'].values, dtype=torch.int64)\n",
    "    delta_in = torch.tensor(data['delta_in_encoded'].values, dtype=torch.int64)\n",
    "    targets = torch.tensor(data['delta_out_encoded'].values, dtype=torch.int64)\n",
    "\n",
    "\n",
    "    # Create a custom Dataset instance\n",
    "    dataset = TensorDataset(pc, delta_in, targets)\n",
    "\n",
    "    # Create a DataLoader instance\n",
    "    data_loader = DataLoader(dataset, batch_size=batch_size, shuffle=False)\n",
    "\n",
    "    # Get unique target keys\n",
    "    target_keys = set(data['delta_out_encoded'].unique())\n",
    "\n",
    "    return data_loader, len(label_encoder_pc.classes_), len(label_encoder_delta_in.classes_), len(label_encoder_delta_out.classes_), target_keys\n",
    "\n",
    "train_iter, num_pc, num_delta_in, num_output_next, target_keys = load_data(train_data, batch_size=batch_size)\n",
    "test_iter, _, _, _, _ = load_data(test_data, batch_size=batch_size)\n",
    "# add 1 for the next delta which is not in the training set\n",
    "num_pc += 1\n",
    "num_delta_in += 1\n",
    "num_output_next += 1\n",
    "\n",
    "print('number of unique pc: ', num_pc)\n",
    "print('number of unique input delta: ', num_delta_in)\n",
    "print('number of unique output delta: ', num_output_next)\n"
   ]
  },
  {
   "cell_type": "code",
   "execution_count": null,
   "metadata": {},
   "outputs": [],
   "source": [
    "# # Example of encoding a single data point\n",
    "# def encode_data_point(pc, delta_in, delta_out):\n",
    "#     # Convert to strings and concatenate\n",
    "#     text = f\"PC: {pc} Delta In: {delta_in} Delta Out: {delta_out}\"\n",
    "#     # Encode using GPT-2 tokenizer\n",
    "#     return tokenizer(text, return_tensors='pt')\n",
    "\n",
    "# # Example of converting a dataset row into GPT-2 compatible format\n",
    "# encoded_inputs = [encode_data_point(row.pc, row.delta_in, row.delta_out) for index, row in traces.iterrows()]\n"
   ]
  },
  {
   "cell_type": "markdown",
   "metadata": {},
   "source": [
    "### Model Definition"
   ]
  },
  {
   "cell_type": "code",
   "execution_count": null,
   "metadata": {},
   "outputs": [],
   "source": [
    "tokenizer = GPT2Tokenizer.from_pretrained('gpt2')\n",
    "model = GPT2ForSequenceClassification.from_pretrained('gpt2', num_labels=num_output_next)\n",
    "model = model.to(device)\n",
    "\n",
    "hparams = {\n",
    "    'learning_rate': 0.0001,\n",
    "    'epochs': 3\n",
    "}\n",
    "# Assuming 'hparams' is your hyperparameters dictionary\n",
    "learning_rate = hparams['learning_rate']\n",
    "epochs = hparams['epochs']\n",
    "\n",
    "# Initialize tokenizer and model\n",
    "tokenizer = GPT2Tokenizer.from_pretrained('gpt2')\n",
    "model = GPT2ForSequenceClassification.from_pretrained('gpt2', num_labels=num_output_next).to(device)\n",
    "optimizer = torch.optim.AdamW(model.parameters(), lr=learning_rate)\n",
    "# Set the tokenizer's pad_token outside of the loop (it only needs to be done once)\n",
    "tokenizer.pad_token = tokenizer.eos_token\n",
    "\n",
    "# Update the model's configuration to recognize the same pad token\n",
    "model.config.pad_token_id = tokenizer.pad_token_id\n",
    "\n",
    "# Training loop\n",
    "model.train()\n",
    "for epoch in range(epochs):\n",
    "    for batch in train_iter:\n",
    "        # Assuming your DataLoader correctly prepares batches as (pc, delta_in, targets)\n",
    "        pc, delta_in, targets = batch\n",
    "        labels = targets.to(device)  # Ensure labels are on the correct device\n",
    "\n",
    "        # Generate input strings for GPT-2 from pc and delta_in values\n",
    "        # This needs to be done within the loop to access the current batch's pc and delta_in\n",
    "        input_strings = ['PC: {} Delta In: {}'.format(pc_val.item(), delta_in_val.item()) for pc_val, delta_in_val in zip(pc, delta_in)]\n",
    "\n",
    "        # Tokenize the input strings\n",
    "        encoding = tokenizer(input_strings, return_tensors='pt', padding=True, truncation=True, max_length=512)\n",
    "        input_ids = encoding['input_ids'].to(device)\n",
    "        attention_mask = encoding['attention_mask'].to(device)\n",
    "\n",
    "        # Perform the forward pass\n",
    "        outputs = model(input_ids, attention_mask=attention_mask, labels=labels)\n",
    "        loss = outputs.loss\n",
    "\n",
    "        # Backward and optimization step\n",
    "        optimizer.zero_grad()  # Clear existing gradients before the backward pass\n",
    "        loss.backward()\n",
    "        optimizer.step()\n",
    "\n",
    "        print(f\"Epoch {epoch + 1}, Loss: {loss.item():.4f}\")\n"
   ]
  },
  {
   "cell_type": "code",
   "execution_count": null,
   "metadata": {},
   "outputs": [],
   "source": [
    "# TEST THE MODEL \n",
    "model.eval()\n",
    "with torch.no_grad():\n",
    "    for batch in test_iter:\n",
    "        pc, delta_in, targets = batch\n",
    "        labels = targets.to(device)  # Ensure labels are on the correct device\n",
    "\n",
    "        # Generate input strings for GPT-2 from pc and delta_in values\n",
    "        # This needs to be done within the loop to access the current batch's pc and delta_in\n",
    "        input_strings = ['PC: {} Delta In: {}'.format(pc_val.item(), delta_in_val.item()) for pc_val, delta_in_val in zip(pc, delta_in)]\n",
    "\n",
    "        # Tokenize the input strings\n",
    "        encoding = tokenizer(input_strings, return_tensors='pt', padding=True, truncation=True, max_length=512)\n",
    "        input_ids = encoding['input_ids'].to(device)\n",
    "        attention_mask = encoding['attention_mask'].to(device)\n",
    "\n",
    "        # Perform the forward pass\n",
    "        outputs = model(input_ids, attention_mask=attention_mask, labels=labels)\n",
    "        loss = outputs.loss\n",
    "\n",
    "        print(f\"Test Loss: {loss.item():.4f}\")\n",
    "        \n",
    "        "
   ]
  },
  {
   "cell_type": "code",
   "execution_count": null,
   "metadata": {},
   "outputs": [],
   "source": [
    "# # Example of using the model to generate a sequence\n",
    "# pc = 140269433753112\n",
    "# delta_in = 1\n",
    "\n",
    "# labels = targets.to(device)  # Ensure labels are on the correct device\n",
    "\n",
    "# # Generate input strings for GPT-2 from pc and delta_in values\n",
    "# # This needs to be done within the loop to access the current batch's pc and delta_in\n",
    "# # input_strings = ['PC: {} Delta In: {}'.format(pc_val.item(), delta_in_val.item()) for pc_val, delta_in_val in zip(pc, delta_in)]\n",
    "# input_strings = ['PC: {} Delta In: {}'.format(pc, delta_in)]\n",
    "\n",
    "# # Tokenize the input strings\n",
    "# encoding = tokenizer(input_strings, return_tensors='pt', padding=True, truncation=True, max_length=512)\n",
    "# input_ids = encoding['input_ids'].to(device)\n",
    "# attention_mask = encoding['attention_mask'].to(device)\n",
    "\n",
    "# # Perform the forward pass\n",
    "# outputs = model(input_ids, attention_mask=attention_mask, labels=labels)\n"
   ]
  },
  {
   "cell_type": "code",
   "execution_count": null,
   "metadata": {},
   "outputs": [],
   "source": []
  }
 ],
 "metadata": {
  "kernelspec": {
   "display_name": "Python 3",
   "language": "python",
   "name": "python3"
  },
  "language_info": {
   "codemirror_mode": {
    "name": "ipython",
    "version": 3
   },
   "file_extension": ".py",
   "mimetype": "text/x-python",
   "name": "python",
   "nbconvert_exporter": "python",
   "pygments_lexer": "ipython3",
   "version": "3.10.12"
  }
 },
 "nbformat": 4,
 "nbformat_minor": 2
}
