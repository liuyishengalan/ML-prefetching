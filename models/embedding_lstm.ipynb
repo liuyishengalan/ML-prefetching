{
 "cells": [
  {
   "cell_type": "code",
   "execution_count": 1,
   "metadata": {},
   "outputs": [],
   "source": [
    "import torch\n",
    "import torch.nn as nn\n",
    "import pandas as pd\n",
    "import numpy as np\n",
    "from sklearn.model_selection import train_test_split\n",
    "from sklearn.preprocessing import LabelEncoder\n",
    "from torch.utils.data import DataLoader, TensorDataset, Dataset\n",
    "import matplotlib.pyplot as plt\n",
    "import torch.nn.functional as Fun\n",
    "import math\n",
    "from matplotlib import pyplot as plt\n",
    "\n",
    "from sklearn.model_selection import KFold"
   ]
  },
  {
   "cell_type": "code",
   "execution_count": 2,
   "metadata": {},
   "outputs": [
    {
     "name": "stdout",
     "output_type": "stream",
     "text": [
      "cuda\n"
     ]
    }
   ],
   "source": [
    "#device = torch.device(\"mps\" if torch.backends.mps.is_available() else \"cpu\")\n",
    "# use cuda if available\n",
    "device = torch.device(\"cuda\" if torch.cuda.is_available() else \"cpu\")\n",
    "print(device)"
   ]
  },
  {
   "cell_type": "markdown",
   "metadata": {},
   "source": [
    "### Load traces"
   ]
  },
  {
   "cell_type": "code",
   "execution_count": 3,
   "metadata": {},
   "outputs": [],
   "source": [
    "def load_traces(data_path, nrows=None, shuffle=False):\n",
    "    traces = pd.read_csv(data_path, nrows=nrows)\n",
    "\n",
    "    if shuffle:\n",
    "        traces = traces.sample(frac=1)\n",
    "\n",
    "    # Split the data into training and testing sets\n",
    "    dataset_length = len(traces)\n",
    "    train_data = traces[:3*int(dataset_length/4)]\n",
    "    test_data = traces[3*int(dataset_length/4):]\n",
    "\n",
    "    return train_data, test_data"
   ]
  },
  {
   "cell_type": "code",
   "execution_count": 4,
   "metadata": {},
   "outputs": [
    {
     "name": "stdout",
     "output_type": "stream",
     "text": [
      "number of traces:  1419938\n",
      "    pc  delta_in  delta_out\n",
      "0    0         0        151\n",
      "1    0       151          1\n",
      "2    0         1         20\n",
      "3    0        20       -171\n",
      "4    0      -171        172\n",
      "..  ..       ...        ...\n",
      "95   0         1          1\n",
      "96   0         1          1\n",
      "97   0         1          1\n",
      "98   0         1          1\n",
      "99   0         1          1\n",
      "\n",
      "[100 rows x 3 columns]\n",
      "         pc  delta_in  delta_out\n",
      "1064952   0         1        466\n",
      "1064953   0       466          1\n",
      "1064954   0         1        437\n",
      "1064955   0       437         -9\n",
      "1064956   0        -9          1\n",
      "...      ..       ...        ...\n",
      "1065047   0        11          1\n",
      "1065048   0         1          1\n",
      "1065049   0         1          1\n",
      "1065050   0         1          1\n",
      "1065051   0         1        784\n",
      "\n",
      "[100 rows x 3 columns]\n",
      "1064952\n"
     ]
    }
   ],
   "source": [
    "traces_file = '../traces/trace-omnetpp-5mb.csv'\n",
    "traces = pd.read_csv(traces_file)\n",
    "dataset_length = len(traces)\n",
    "print('number of traces: ', dataset_length)\n",
    "\n",
    "train_data, test_data = load_traces(traces_file, shuffle=False)\n",
    "print(train_data[0:100])\n",
    "print(test_data[0:100])\n",
    "print(len(train_data))"
   ]
  },
  {
   "cell_type": "code",
   "execution_count": 5,
   "metadata": {},
   "outputs": [],
   "source": [
    "batch_size = 256\n",
    "sequence_length = 64\n",
    "target_length = 10\n",
    "\n",
    "# K-fold cross-validation parameters\n",
    "n_splits = 5  # Number of splits for cross-validation\n",
    "kf = KFold(n_splits=n_splits, shuffle=False)  # Initialize KFold"
   ]
  },
  {
   "cell_type": "markdown",
   "metadata": {},
   "source": [
    "### Create vocabulary"
   ]
  },
  {
   "cell_type": "code",
   "execution_count": 6,
   "metadata": {},
   "outputs": [
    {
     "name": "stdout",
     "output_type": "stream",
     "text": [
      "Dataset: 1064448\n",
      "Data loader 4158\n",
      "Dataset: 354560\n",
      "Data loader 1385\n",
      "Train iter: 4158\n",
      "number of unique pc:  2\n",
      "number of unique input delta:  2562\n",
      "number of unique output delta:  2562\n"
     ]
    }
   ],
   "source": [
    "# Cuda details should not be part of dataset.\n",
    "label_encoder_pc = LabelEncoder()\n",
    "label_encoder_deltas = LabelEncoder()\n",
    "class PrefetchingDataset(Dataset):\n",
    "    def __init__(self, pc, delta_in):\n",
    "        #self.targets = targets\n",
    "        self.delta_in = label_encoder_deltas.transform(delta_in)\n",
    "        self.pcs = pc\n",
    "       \n",
    "    \n",
    "    def __len__(self):\n",
    "        return (int(batch_size * math.floor(len(self.delta_in)/batch_size)) - batch_size)\n",
    "\n",
    "    def __getitem__(self, idx):\n",
    "        #pcs = Fun.one_hot(torch.tensor(self.pcs[idx:idx+sequence_length]), max(num_pc, num_output_next))\n",
    "        #deltas = Fun.one_hot(torch.tensor(self.delta_in[idx:idx+sequence_length]), max(num_pc, num_output_next))\n",
    "        #pcs = torch.tensor(self.pcs[idx:idx+sequence_length])\n",
    "        pcs = self.pcs[idx:idx+sequence_length]\n",
    "        deltas = torch.tensor(self.delta_in[idx:idx+sequence_length])\n",
    "        \n",
    "        targets = Fun.one_hot(torch.tensor(self.delta_in[idx+sequence_length]), num_output_next)\n",
    "    \n",
    "        \n",
    "        return (pcs, deltas, targets)\n",
    "\n",
    "def load_data(data, batch_size):\n",
    "    data = data.copy()\n",
    "    deltas = data['delta_in']\n",
    "    # Modify the DataFrame safely\n",
    "    data.loc[:, 'pc_encoded'] = label_encoder_pc.transform(data['pc'].values)\n",
    "    pc = torch.tensor(data['pc_encoded'].values)\n",
    "    dataset = PrefetchingDataset(pc, deltas)\n",
    "    print(\"Dataset:\", len(dataset))\n",
    "    data_loader = DataLoader(dataset, batch_size=batch_size, shuffle=False)\n",
    "    # Get unique target keys\n",
    "    target_keys = set(deltas.unique())\n",
    "    print(\"Data loader\", len(data_loader))\n",
    "    return data_loader, len(label_encoder_pc.classes_), len(label_encoder_deltas.classes_), len(label_encoder_deltas.classes_), target_keys\n",
    "\n",
    "\n",
    "\n",
    "label_encoder_pc.fit(list(set().union(train_data['pc'].values, test_data['pc'].values)))\n",
    "label_encoder_deltas.fit(list(set().union(train_data['delta_in'].values, test_data['delta_in'].values)))\n",
    "train_iter, num_pc, num_delta_in, num_output_next, target_keys = load_data(train_data, batch_size=batch_size)\n",
    "test_iter, _, _, _, _ = load_data(test_data, batch_size=batch_size)\n",
    "# add 1 for the next delta which is not in the training set\n",
    "num_pc += 1\n",
    "num_delta_in += 1\n",
    "num_output_next += 1\n",
    "print(\"Train iter:\", len(train_iter))\n",
    "print('number of unique pc: ', num_pc)\n",
    "print('number of unique input delta: ', num_delta_in)\n",
    "print('number of unique output delta: ', num_output_next)\n"
   ]
  },
  {
   "cell_type": "code",
   "execution_count": 7,
   "metadata": {},
   "outputs": [
    {
     "name": "stdout",
     "output_type": "stream",
     "text": [
      "1064952\n",
      "5 highest bins: [491944. 154277.  33708.  33523.]\n",
      "  their ranges: [(0.0, 100.0), (-100.0, 0.0), (100.0, 200.0), (-200.0, -100.0)]\n"
     ]
    },
    {
     "data": {
      "image/png": "[encoded data removed]",
      "text/plain": [
       "<Figure size 640x480 with 1 Axes>"
      ]
     },
     "metadata": {},
     "output_type": "display_data"
    }
   ],
   "source": [
    "# Histogram of the data.\n",
    "values, bins, patches = plt.hist(train_data['delta_in'], bins=100, range=[-5000, 5000])\n",
    "order = np.argsort(values)[::-1]\n",
    "print(len(train_data['delta_in']))\n",
    "print(\"5 highest bins:\", values[order][:4])\n",
    "print(\"  their ranges:\", [ (bins[i], bins[i+1])   for i in order[:4]])\n",
    "\n",
    "plt.show()"
   ]
  },
  {
   "cell_type": "code",
   "execution_count": 8,
   "metadata": {},
   "outputs": [
    {
     "data": {
      "text/plain": [
       "25"
      ]
     },
     "execution_count": 8,
     "metadata": {},
     "output_type": "execute_result"
    }
   ],
   "source": [
    "_, cts = np.unique(train_data['delta_in'], axis=0, return_counts=True)\n",
    "len(np.where(cts < 10)[0])"
   ]
  },
  {
   "cell_type": "code",
   "execution_count": 9,
   "metadata": {},
   "outputs": [
    {
     "data": {
      "image/png": "[encoded data removed]",
      "text/plain": [
       "<Figure size 640x480 with 1 Axes>"
      ]
     },
     "metadata": {},
     "output_type": "display_data"
    }
   ],
   "source": [
    "plt.hist(test_data['delta_in'], bins=100, range=[-5000,5000])\n",
    "plt.show()"
   ]
  },
  {
   "cell_type": "markdown",
   "metadata": {},
   "source": [
    "### Define LSTM model"
   ]
  },
  {
   "cell_type": "code",
   "execution_count": 10,
   "metadata": {},
   "outputs": [],
   "source": [
    "class EmbeddingLSTM(nn.Module):\n",
    "    def __init__(self, num_pc, num_delta_in, num_output_next, embed_dim, hidden_dim, output_dim, topPredNum, num_layers, dropout):\n",
    "        # Layer structure is described in the paper\n",
    "        super(EmbeddingLSTM, self).__init__()\n",
    "        self.topPredNum = topPredNum\n",
    "        # Define embedding layers\n",
    "        # TODO(yisheng): Num_pc should be the input history size.\n",
    "        self.pc_embed_layer = nn.Embedding(num_pc, embed_dim)\n",
    "        # TODO(yisheng): Num_pc and num_delta will be the same\n",
    "        self.delta_embed_layer = nn.Embedding(num_delta_in, embed_dim)\n",
    "        # Define LSTM layer\n",
    "        # LSTM input dimension: (pc_embed + delta_embed) * 2\n",
    "        # What does concat mean? and dimension should be the same as embed_dim\n",
    "        lstm_input_dim = embed_dim\n",
    "        self.lstm = nn.LSTM(lstm_input_dim, hidden_dim, num_layers, dropout=dropout, batch_first=True)\n",
    "        # Define output layer\n",
    "        self.fc = nn.Linear(hidden_dim, output_dim)\n",
    "        # Define dropout layer\n",
    "        # TODO: why is this needed?\n",
    "        self.dropout = nn.Dropout(p=dropout)\n",
    "        self.sigmoid = nn.Sigmoid()\n",
    "\n",
    "    def forward(self, x, h_c_state, target=None):\n",
    "        pc, delta = x\n",
    "        pc_embed = self.pc_embed_layer(pc)\n",
    "        delta_embed = self.delta_embed_layer(delta)\n",
    "        #pc_delta_embed_out = torch.cat([pc_embed, delta_embed], dim = -1).to(torch.float32)\n",
    "        lstm_out, (h_0, c_0) = self.lstm(delta_embed, h_c_state)\n",
    "        # lstm_out shape: (batch_size, seq_len, hidden_dim)\n",
    "        #outputs = self.fc(lstm_out)\n",
    "        state = (h_0, c_0)\n",
    "        # out = h_0[-1]\n",
    "        #out_dropout = self.dropout(h_0[-1])\n",
    "        out = self.fc(h_0[-1])\n",
    "        \n",
    "        #out = self.sigmoid(out)\n",
    "        if target is not None:\n",
    "            loss = nn.CrossEntropyLoss()(out, target.to(torch.float32)) \n",
    "        else:\n",
    "            loss = None\n",
    "        \n",
    "        # Get top k predictions\n",
    "        _, preds = torch.topk(out, self.topPredNum, sorted=False)\n",
    "        return preds, state, loss\n",
    "\n",
    "    def predict(self, X, lstm_state):\n",
    "        with torch.no_grad():\n",
    "            preds, state, _ = self.forward(X, lstm_state)\n",
    "            return preds, state\n",
    "\n"
   ]
  },
  {
   "cell_type": "markdown",
   "metadata": {},
   "source": [
    "### Tune hyperparameters here"
   ]
  },
  {
   "cell_type": "code",
   "execution_count": 11,
   "metadata": {},
   "outputs": [],
   "source": [
    "# Set up hyperparameters\n",
    "hparams = {\n",
    "    \"topPredNum\": 10,\n",
    "    \"embed_dim\": 128,\n",
    "    \"hidden_dim\": 128,\n",
    "    \"output_dim\": num_output_next,\n",
    "    \"num_layers\": 2,\n",
    "    \"dropout\": 0.1,\n",
    "    \"learning_rate\": 0.001,\n",
    "    \"epochs\": 10\n",
    "}"
   ]
  },
  {
   "cell_type": "code",
   "execution_count": 12,
   "metadata": {},
   "outputs": [],
   "source": [
    "def validate_model(network, data_iterator, relevant_keys, computing_device=\"cpu\", initial_state=None):\n",
    "    network.eval()\n",
    "\n",
    "    accuracy_metrics = [process_batch(i, batch_data, network, computing_device, initial_state, relevant_keys) \n",
    "                        for i, batch_data in enumerate(data_iterator)]\n",
    "\n",
    "    average_accuracy = torch.tensor(accuracy_metrics).mean()\n",
    "    print(\"Average Validation Accuracy: {:.4f}\".format(average_accuracy))\n",
    "    return average_accuracy\n",
    "\n",
    "def process_batch(batch_index, batch_data, network, device, state, keys):\n",
    "    print(f\"Processing batch {batch_index}\")\n",
    "\n",
    "    batch_data = [item.to(device) for item in batch_data]\n",
    "    input_data = batch_data[:-1]\n",
    "    labels = batch_data[-1]\n",
    "    labels = torch.argmax(labels, dim = 1)\n",
    "    \n",
    "    predictions, state = network.predict(input_data, state)\n",
    "    accuracy = compute_accuracy(predictions, labels, keys)\n",
    "\n",
    "    return accuracy\n",
    "\n",
    "def compute_accuracy(predictions, labels, keys):\n",
    "    combined_data = list(zip(labels, predictions))\n",
    "    count_correct = sum([1 for label, predicted in combined_data \n",
    "                         if label.item() in keys and label in predicted])\n",
    "    \n",
    "    return count_correct / len(labels)"
   ]
  },
  {
   "cell_type": "markdown",
   "metadata": {},
   "source": [
    "### Train the model"
   ]
  },
  {
   "cell_type": "code",
   "execution_count": 13,
   "metadata": {
    "scrolled": true
   },
   "outputs": [
    {
     "name": "stdout",
     "output_type": "stream",
     "text": [
      "Fold 1/5\n",
      "Dataset: 1135616\n",
      "Data loader 4436\n",
      "Dataset: 283648\n",
      "Data loader 1108\n",
      "Fold 1, Epoch 1, Iteration 0, Loss: 7.84495211\n",
      "Fold 1, Epoch 1, Iteration 1000, Loss: 5.27830124\n",
      "Fold 1, Epoch 1, Iteration 2000, Loss: 5.41904402\n",
      "Fold 1, Epoch 1, Iteration 3000, Loss: 5.50178957\n",
      "Fold 1, Epoch 1, Iteration 4000, Loss: 5.80617476\n",
      "Fold 1, Epoch 2, Iteration 0, Loss: 5.37922001\n",
      "Fold 1, Epoch 2, Iteration 1000, Loss: 4.92604733\n",
      "Fold 1, Epoch 2, Iteration 2000, Loss: 5.23601389\n",
      "Fold 1, Epoch 2, Iteration 3000, Loss: 5.19928360\n",
      "Fold 1, Epoch 2, Iteration 4000, Loss: 5.67208385\n"
     ]
    }
   ],
   "source": [
    "\n",
    "fold_metrics = []\n",
    "\n",
    "# Loop over each fold\n",
    "for fold, (train_idx, test_idx) in enumerate(kf.split(np.arange(dataset_length))):\n",
    "    print(f\"Fold {fold + 1}/{n_splits}\")\n",
    "\n",
    "    # Split the dataset\n",
    "    train_data, test_data = traces.iloc[train_idx], traces.iloc[test_idx]\n",
    "\n",
    "    # DataLoader for train and test sets\n",
    "    train_iter, _, _, _, _ = load_data(train_data, batch_size=batch_size)\n",
    "    test_iter, _, _, _, _ = load_data(test_data, batch_size=batch_size)\n",
    "\n",
    "    # Initialize the model for the current fold\n",
    "    my_model = EmbeddingLSTM(\n",
    "        num_pc,\n",
    "        num_delta_in,\n",
    "        num_output_next,\n",
    "        hparams[\"embed_dim\"],\n",
    "        hparams[\"hidden_dim\"],\n",
    "        hparams[\"output_dim\"],\n",
    "        topPredNum=hparams[\"topPredNum\"],\n",
    "        num_layers=hparams[\"num_layers\"],\n",
    "        dropout=hparams[\"dropout\"]\n",
    "    ).to(device)\n",
    "\n",
    "    # Prepare for training\n",
    "    train_loss = []\n",
    "    optimizer = torch.optim.Adam(my_model.parameters(), lr=hparams[\"learning_rate\"])\n",
    "\n",
    "    # Start training for the current fold\n",
    "    for epoch in range(hparams[\"epochs\"]):\n",
    "        my_model.train()\n",
    "        h_0 = torch.zeros(hparams[\"num_layers\"], batch_size, hparams[\"hidden_dim\"]).to(device)\n",
    "        c_0 = torch.zeros(hparams[\"num_layers\"], batch_size, hparams[\"hidden_dim\"]).to(device)\n",
    "        lstm_state = (h_0, c_0)\n",
    "\n",
    "        for idx, batch in enumerate(train_iter):\n",
    "            batch = [ds.to(device) for ds in batch]\n",
    "            inputs = batch[:-1]\n",
    "            targets = batch[-1]\n",
    "            optimizer.zero_grad()\n",
    "            _, lstm_state, batch_loss = my_model(inputs, lstm_state, targets)\n",
    "            batch_loss.backward()\n",
    "            optimizer.step()\n",
    "            train_loss.append(float(batch_loss.item()))\n",
    "            if idx % 1000 == 0:\n",
    "                print(f\"Fold {fold + 1}, Epoch {epoch + 1}, Iteration {idx}, Loss: {train_loss[-1]:.8f}\")\n",
    "            lstm_state = tuple([s.data for s in lstm_state])\n",
    "\n",
    "    # Evaluate the model on the test set for the current fold\n",
    "    fold_accuracy = validate_model(my_model, test_iter, target_keys, computing_device=device)\n",
    "    fold_metrics.append(fold_accuracy)\n",
    "\n",
    "# Calculate and print average performance across all folds\n",
    "average_performance = sum(fold_metrics) / len(fold_metrics)\n",
    "print(f\"Average performance over {n_splits} folds: {average_performance}\")"
   ]
  },
  {
   "cell_type": "code",
   "execution_count": null,
   "metadata": {},
   "outputs": [
    {
     "data": {
      "image/png": "[encoded data removed]",
      "text/plain": [
       "<Figure size 640x480 with 1 Axes>"
      ]
     },
     "metadata": {},
     "output_type": "display_data"
    }
   ],
   "source": [
    "plt.plot(train_loss)\n",
    "plt.title(\"Training Loss Curve\")\n",
    "plt.xlabel(\"Iteration\")\n",
    "plt.ylabel(\"Loss\")\n",
    "plt.show()"
   ]
  },
  {
   "cell_type": "markdown",
   "metadata": {},
   "source": [
    "### Validate the model"
   ]
  }
 ],
 "metadata": {
  "kernelspec": {
   "display_name": "Python 3 (ipykernel)",
   "language": "python",
   "name": "python3"
  },
  "language_info": {
   "codemirror_mode": {
    "name": "ipython",
    "version": 3
   },
   "file_extension": ".py",
   "mimetype": "text/x-python",
   "name": "python",
   "nbconvert_exporter": "python",
   "pygments_lexer": "ipython3",
   "version": "3.9.0"
  }
 },
 "nbformat": 4,
 "nbformat_minor": 4
}
