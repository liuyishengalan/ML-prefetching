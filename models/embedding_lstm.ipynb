{
 "cells": [
  {
   "cell_type": "code",
   "execution_count": 1,
   "metadata": {},
   "outputs": [],
   "source": [
    "import torch\n",
    "import torch.nn as nn\n",
    "import pandas as pd\n",
    "import numpy as np\n",
    "from sklearn.model_selection import train_test_split\n",
    "from sklearn.preprocessing import LabelEncoder\n",
    "from torch.utils.data import DataLoader, TensorDataset, Dataset\n",
    "import matplotlib.pyplot as plt\n",
    "import torch.nn.functional as Fun\n",
    "import math\n",
    "from matplotlib import pyplot as plt"
   ]
  },
  {
   "cell_type": "code",
   "execution_count": 2,
   "metadata": {},
   "outputs": [
    {
     "name": "stdout",
     "output_type": "stream",
     "text": [
      "cuda\n"
     ]
    }
   ],
   "source": [
    "#device = torch.device(\"mps\" if torch.backends.mps.is_available() else \"cpu\")\n",
    "# use cuda if available\n",
    "device = torch.device(\"cuda\" if torch.cuda.is_available() else \"cpu\")\n",
    "print(device)"
   ]
  },
  {
   "cell_type": "markdown",
   "metadata": {},
   "source": [
    "### Load traces"
   ]
  },
  {
   "cell_type": "code",
   "execution_count": 3,
   "metadata": {},
   "outputs": [
    {
     "name": "stdout",
     "output_type": "stream",
     "text": [
      "number of traces:  45851307\n",
      "number of traces used:  45851307\n",
      "    pc  delta_in  delta_out\n",
      "0    0         0        151\n",
      "1    0       151          1\n",
      "2    0         1         20\n",
      "3    0        20       -171\n",
      "4    0      -171        172\n",
      "..  ..       ...        ...\n",
      "95   0        -4         43\n",
      "96   0        43          1\n",
      "97   0         1          2\n",
      "98   0         2         -1\n",
      "99   0        -1          2\n",
      "\n",
      "[100 rows x 3 columns]\n",
      "          pc  delta_in  delta_out\n",
      "34388478   0     -6380       1210\n",
      "34388479   0      1210     -31215\n",
      "34388480   0    -31215         46\n",
      "34388481   0        46      49218\n",
      "34388482   0     49218      -5323\n",
      "...       ..       ...        ...\n",
      "34388573   0     -6481      -5808\n",
      "34388574   0     -5808       3185\n",
      "34388575   0      3185      -1458\n",
      "34388576   0     -1458      -1284\n",
      "34388577   0     -1284      11740\n",
      "\n",
      "[100 rows x 3 columns]\n",
      "34388478\n"
     ]
    }
   ],
   "source": [
    "traces_file = '../traces/final_traces/traces.csv'\n",
    "nrows = 45851307 # number of traces to use (debug purposes)\n",
    "# nrows = 64000 # number of traces to use (debug purposes)\n",
    "batch_size = 256\n",
    "sequence_length = 16\n",
    "target_length = 10\n",
    "print('number of traces: ', len(pd.read_csv(traces_file)))\n",
    "print('number of traces used: ', nrows)\n",
    "\n",
    "traces = pd.read_csv(traces_file, nrows=nrows)\n",
    "print(traces[0:100])\n",
    "# Split into train and test\n",
    "dataset_length = 45851307\n",
    "train_data = traces[:3*int(dataset_length/4)]\n",
    "test_data = traces[3*int(dataset_length/4):]\n",
    "print(test_data[0:100])\n",
    "print(len(train_data))"
   ]
  },
  {
   "cell_type": "markdown",
   "metadata": {},
   "source": [
    "### Create vocabulary"
   ]
  },
  {
   "cell_type": "code",
   "execution_count": 4,
   "metadata": {},
   "outputs": [
    {
     "name": "stderr",
     "output_type": "stream",
     "text": [
      "/tmp/ipykernel_203695/1934988245.py:25: SettingWithCopyWarning: \n",
      "A value is trying to be set on a copy of a slice from a DataFrame.\n",
      "Try using .loc[row_indexer,col_indexer] = value instead\n",
      "\n",
      "See the caveats in the documentation: https://pandas.pydata.org/pandas-docs/stable/user_guide/indexing.html#returning-a-view-versus-a-copy\n",
      "  data['pc_encoded'] = label_encoder_pc.transform(data['pc'].values)\n"
     ]
    },
    {
     "name": "stdout",
     "output_type": "stream",
     "text": [
      "Dataset: 34387968\n",
      "Data loader 134328\n"
     ]
    },
    {
     "name": "stderr",
     "output_type": "stream",
     "text": [
      "/tmp/ipykernel_203695/1934988245.py:25: SettingWithCopyWarning: \n",
      "A value is trying to be set on a copy of a slice from a DataFrame.\n",
      "Try using .loc[row_indexer,col_indexer] = value instead\n",
      "\n",
      "See the caveats in the documentation: https://pandas.pydata.org/pandas-docs/stable/user_guide/indexing.html#returning-a-view-versus-a-copy\n",
      "  data['pc_encoded'] = label_encoder_pc.transform(data['pc'].values)\n"
     ]
    },
    {
     "name": "stdout",
     "output_type": "stream",
     "text": [
      "Dataset: 11462400\n",
      "Data loader 44775\n",
      "Train iter: 134328\n",
      "number of unique pc:  2\n",
      "number of unique input delta:  105920\n",
      "number of unique output delta:  105920\n"
     ]
    }
   ],
   "source": [
    "# Cuda details should not be part of dataset.\n",
    "label_encoder_pc = LabelEncoder()\n",
    "label_encoder_deltas = LabelEncoder()\n",
    "class PrefetchingDataset(Dataset):\n",
    "    def __init__(self, pc, delta_in):\n",
    "        #self.targets = targets\n",
    "        self.delta_in = label_encoder_deltas.transform(delta_in)\n",
    "        self.pcs = pc\n",
    "       \n",
    "    \n",
    "    def __len__(self):\n",
    "        return (int(batch_size * math.floor(len(self.delta_in)/batch_size)) - batch_size)\n",
    "\n",
    "    def __getitem__(self, idx):\n",
    "        #pcs = Fun.one_hot(torch.tensor(self.pcs[idx:idx+sequence_length]), max(num_pc, num_output_next))\n",
    "        #deltas = Fun.one_hot(torch.tensor(self.delta_in[idx:idx+sequence_length]), max(num_pc, num_output_next))\n",
    "        #pcs = torch.tensor(self.pcs[idx:idx+sequence_length])\n",
    "        pcs = self.pcs[idx:idx+sequence_length]\n",
    "        deltas = torch.tensor(self.delta_in[idx:idx+sequence_length])\n",
    "        targets = Fun.one_hot(torch.tensor(self.delta_in[idx+sequence_length]), num_output_next)\n",
    "        return (pcs, deltas, targets)\n",
    "\n",
    "def load_data(data, batch_size):\n",
    "    deltas = data['delta_in']\n",
    "    data['pc_encoded'] = label_encoder_pc.transform(data['pc'].values)\n",
    "    pc = torch.tensor(data['pc_encoded'].values)\n",
    "    dataset = PrefetchingDataset(pc, deltas)\n",
    "    print(\"Dataset:\", len(dataset))\n",
    "    # Create a DataLoader instance\n",
    "    data_loader = DataLoader(dataset, batch_size=batch_size, shuffle=False)\n",
    "\n",
    "    # Get unique target keys\n",
    "    target_keys = set(deltas.unique())\n",
    "    print(\"Data loader\", len(data_loader))\n",
    "    return data_loader, len(label_encoder_pc.classes_), len(label_encoder_deltas.classes_), len(label_encoder_deltas.classes_), target_keys\n",
    "\n",
    "label_encoder_pc.fit(list(set().union(train_data['pc'].values, test_data['pc'].values)))\n",
    "label_encoder_deltas.fit(list(set().union(train_data['delta_in'].values, test_data['delta_in'].values)))\n",
    "train_iter, num_pc, num_delta_in, num_output_next, target_keys = load_data(train_data, batch_size=batch_size)\n",
    "test_iter, _, _, _, _ = load_data(test_data, batch_size=batch_size)\n",
    "# add 1 for the next delta which is not in the training set\n",
    "num_pc += 1\n",
    "num_delta_in += 1\n",
    "num_output_next += 1\n",
    "print(\"Train iter:\", len(train_iter))\n",
    "print('number of unique pc: ', num_pc)\n",
    "print('number of unique input delta: ', num_delta_in)\n",
    "print('number of unique output delta: ', num_output_next)\n"
   ]
  },
  {
   "cell_type": "code",
   "execution_count": 5,
   "metadata": {},
   "outputs": [
    {
     "name": "stdout",
     "output_type": "stream",
     "text": [
      "34388478\n",
      "5 highest bins: [1706908.  683726.   91865.   88875.]\n",
      "  their ranges: [(0.0, 100.0), (-100.0, 0.0), (100.0, 200.0), (-200.0, -100.0)]\n"
     ]
    },
    {
     "data": {
      "image/png": "[encoded data removed]",
      "text/plain": [
       "<Figure size 640x480 with 1 Axes>"
      ]
     },
     "metadata": {},
     "output_type": "display_data"
    }
   ],
   "source": [
    "# Histogram of the data.\n",
    "values, bins, patches = plt.hist(train_data['delta_in'], bins=100, range=[-5000, 5000])\n",
    "order = np.argsort(values)[::-1]\n",
    "print(len(train_data['delta_in']))\n",
    "print(\"5 highest bins:\", values[order][:4])\n",
    "print(\"  their ranges:\", [ (bins[i], bins[i+1])   for i in order[:4]])\n",
    "\n",
    "plt.show()"
   ]
  },
  {
   "cell_type": "code",
   "execution_count": 6,
   "metadata": {},
   "outputs": [
    {
     "data": {
      "text/plain": [
       "2981"
      ]
     },
     "execution_count": 6,
     "metadata": {},
     "output_type": "execute_result"
    }
   ],
   "source": [
    "_, cts = np.unique(train_data['delta_in'], axis=0, return_counts=True)\n",
    "len(np.where(cts < 10)[0])"
   ]
  },
  {
   "cell_type": "code",
   "execution_count": 7,
   "metadata": {},
   "outputs": [
    {
     "data": {
      "image/png": "[encoded data removed]",
      "text/plain": [
       "<Figure size 640x480 with 1 Axes>"
      ]
     },
     "metadata": {},
     "output_type": "display_data"
    }
   ],
   "source": [
    "plt.hist(test_data['delta_in'], bins=100, range=[-5000,5000])\n",
    "plt.show()"
   ]
  },
  {
   "cell_type": "markdown",
   "metadata": {},
   "source": [
    "### Define LSTM model"
   ]
  },
  {
   "cell_type": "code",
   "execution_count": 8,
   "metadata": {},
   "outputs": [],
   "source": [
    "class EmbeddingLSTM(nn.Module):\n",
    "    def __init__(self, num_pc, num_delta_in, num_output_next, embed_dim, hidden_dim, output_dim, topPredNum, num_layers, dropout):\n",
    "        # Layer structure is described in the paper\n",
    "        super(EmbeddingLSTM, self).__init__()\n",
    "        self.topPredNum = topPredNum\n",
    "        # Define embedding layers\n",
    "        # TODO(yisheng): Num_pc should be the input history size.\n",
    "        self.pc_embed_layer = nn.Embedding(num_pc, embed_dim)\n",
    "        # TODO(yisheng): Num_pc and num_delta will be the same\n",
    "        print(num_output_next)\n",
    "        self.delta_embed_layer = nn.Embedding(num_output_next, embed_dim)\n",
    "        # Define LSTM layer\n",
    "        # LSTM input dimension: (pc_embed + delta_embed) * 2\n",
    "        # What does concat mean? and dimension should be the same as embed_dim\n",
    "        lstm_input_dim = embed_dim\n",
    "        self.lstm = nn.LSTM(lstm_input_dim, hidden_dim, num_layers, dropout=dropout, batch_first=True)\n",
    "        # Define output layer\n",
    "        self.fc = nn.Linear(hidden_dim, output_dim)\n",
    "        # Define dropout layer\n",
    "        # TODO: why is this needed?\n",
    "        self.dropout = nn.Dropout(p=dropout)\n",
    "        self.sigmoid = nn.Sigmoid()\n",
    "\n",
    "    def forward(self, x, h_c_state, target=None):\n",
    "        pc, delta = x\n",
    "        pc_embed = self.pc_embed_layer(pc)\n",
    "        # print(\"Delta: \", delta)\n",
    "        delta_embed = self.delta_embed_layer(delta)\n",
    "        # print(\"Delta_embed: \", delta_embed)\n",
    "        #pc_delta_embed_out = torch.cat([pc_embed, delta_embed], dim = -1).to(torch.float32)\n",
    "        lstm_out, (h_0, c_0) = self.lstm(delta_embed, h_c_state)\n",
    "        # lstm_out shape: (batch_size, seq_len, hidden_dim)\n",
    "        #outputs = self.fc(lstm_out)\n",
    "        state = (h_0, c_0)\n",
    "        # out = h_0[-1]\n",
    "        #out_dropout = self.dropout(h_0[-1])\n",
    "        out = self.fc(h_0[-1])\n",
    "        \n",
    "        #out = self.sigmoid(out)\n",
    "        if target is not None:\n",
    "            loss = nn.CrossEntropyLoss()(out, target.to(torch.float32)) \n",
    "        else:\n",
    "            loss = None\n",
    "        \n",
    "        # Get top k predictions\n",
    "        _, preds = torch.topk(out, self.topPredNum, sorted=False)\n",
    "        return preds, state, loss\n",
    "\n",
    "    def predict(self, X, lstm_state):\n",
    "        with torch.no_grad():\n",
    "            preds, state, _ = self.forward(X, lstm_state)\n",
    "            return preds, state\n",
    "\n"
   ]
  },
  {
   "cell_type": "markdown",
   "metadata": {},
   "source": [
    "### Tune hyperparameters here"
   ]
  },
  {
   "cell_type": "code",
   "execution_count": 9,
   "metadata": {},
   "outputs": [],
   "source": [
    "# Set up hyperparameters\n",
    "hparams = {\n",
    "    \"topPredNum\": 10,\n",
    "    \"embed_dim\": 128,\n",
    "    \"hidden_dim\": 128,\n",
    "    \"output_dim\": num_output_next,\n",
    "    \"num_layers\": 2,\n",
    "    \"dropout\": 0.1,\n",
    "    \"learning_rate\": 0.001,\n",
    "    \"epochs\": 1\n",
    "}"
   ]
  },
  {
   "cell_type": "markdown",
   "metadata": {},
   "source": [
    "### Train the model"
   ]
  },
  {
   "cell_type": "code",
   "execution_count": 10,
   "metadata": {
    "scrolled": true
   },
   "outputs": [
    {
     "name": "stdout",
     "output_type": "stream",
     "text": [
      "105920\n",
      "Epoch 1, Iteration 0, Loss: 11.54390907\n",
      "Epoch 1, Iteration 1000, Loss: 10.69362640\n",
      "Epoch 1, Iteration 2000, Loss: 10.53824234\n",
      "Epoch 1, Iteration 3000, Loss: 10.79329967\n",
      "Epoch 1, Iteration 4000, Loss: 10.91014862\n",
      "Epoch 1, Iteration 5000, Loss: 10.51802063\n",
      "Epoch 1, Iteration 6000, Loss: 10.04757309\n",
      "Epoch 1, Iteration 7000, Loss: 10.61086464\n",
      "Epoch 1, Iteration 8000, Loss: 10.01587296\n",
      "Epoch 1, Iteration 9000, Loss: 10.28116989\n",
      "Epoch 1, Iteration 10000, Loss: 10.92711830\n",
      "Epoch 1, Iteration 11000, Loss: 10.60684681\n",
      "Epoch 1, Iteration 12000, Loss: 10.54755974\n",
      "Epoch 1, Iteration 13000, Loss: 10.50490189\n",
      "Epoch 1, Iteration 14000, Loss: 10.56263542\n",
      "Epoch 1, Iteration 15000, Loss: 10.52462959\n",
      "Epoch 1, Iteration 16000, Loss: 10.29828453\n",
      "Epoch 1, Iteration 17000, Loss: 10.27924156\n",
      "Epoch 1, Iteration 18000, Loss: 10.71592903\n",
      "Epoch 1, Iteration 19000, Loss: 10.47464275\n",
      "Epoch 1, Iteration 20000, Loss: 10.55473709\n",
      "Epoch 1, Iteration 21000, Loss: 10.28398895\n",
      "Epoch 1, Iteration 22000, Loss: 10.53244019\n",
      "Epoch 1, Iteration 23000, Loss: 10.42203140\n",
      "Epoch 1, Iteration 24000, Loss: 10.10932350\n",
      "Epoch 1, Iteration 25000, Loss: 10.06589317\n",
      "Epoch 1, Iteration 26000, Loss: 10.24909306\n",
      "Epoch 1, Iteration 27000, Loss: 10.46407318\n",
      "Epoch 1, Iteration 28000, Loss: 10.16250038\n",
      "Epoch 1, Iteration 29000, Loss: 10.46790886\n",
      "Epoch 1, Iteration 30000, Loss: 10.25967312\n",
      "Epoch 1, Iteration 31000, Loss: 10.23157406\n",
      "Epoch 1, Iteration 32000, Loss: 10.32825661\n",
      "Epoch 1, Iteration 33000, Loss: 10.49431801\n",
      "Epoch 1, Iteration 34000, Loss: 10.20531464\n",
      "Epoch 1, Iteration 35000, Loss: 10.48451328\n",
      "Epoch 1, Iteration 36000, Loss: 9.85134697\n",
      "Epoch 1, Iteration 37000, Loss: 10.54734421\n",
      "Epoch 1, Iteration 38000, Loss: 10.56216431\n",
      "Epoch 1, Iteration 39000, Loss: 10.33480835\n",
      "Epoch 1, Iteration 40000, Loss: 10.09659767\n",
      "Epoch 1, Iteration 41000, Loss: 9.90858841\n",
      "Epoch 1, Iteration 42000, Loss: 10.06079483\n",
      "Epoch 1, Iteration 43000, Loss: 10.05658913\n",
      "Epoch 1, Iteration 44000, Loss: 10.12432003\n",
      "Epoch 1, Iteration 45000, Loss: 10.04884624\n",
      "Epoch 1, Iteration 46000, Loss: 9.85203743\n",
      "Epoch 1, Iteration 47000, Loss: 10.01593018\n",
      "Epoch 1, Iteration 48000, Loss: 10.00681019\n",
      "Epoch 1, Iteration 49000, Loss: 10.08265686\n",
      "Epoch 1, Iteration 50000, Loss: 10.35496330\n",
      "Epoch 1, Iteration 51000, Loss: 10.53408432\n",
      "Epoch 1, Iteration 52000, Loss: 10.25219917\n",
      "Epoch 1, Iteration 53000, Loss: 9.99509144\n",
      "Epoch 1, Iteration 54000, Loss: 10.29118347\n",
      "Epoch 1, Iteration 55000, Loss: 10.37407112\n",
      "Epoch 1, Iteration 56000, Loss: 9.88706779\n",
      "Epoch 1, Iteration 57000, Loss: 9.84350586\n",
      "Epoch 1, Iteration 58000, Loss: 9.76839542\n",
      "Epoch 1, Iteration 59000, Loss: 10.20347977\n",
      "Epoch 1, Iteration 60000, Loss: 10.02696133\n",
      "Epoch 1, Iteration 61000, Loss: 9.70500183\n",
      "Epoch 1, Iteration 62000, Loss: 9.57139111\n",
      "Epoch 1, Iteration 63000, Loss: 10.13274765\n",
      "Epoch 1, Iteration 64000, Loss: 10.14502907\n",
      "Epoch 1, Iteration 65000, Loss: 9.52928162\n",
      "Epoch 1, Iteration 66000, Loss: 10.34075165\n",
      "Epoch 1, Iteration 67000, Loss: 9.99353027\n",
      "Epoch 1, Iteration 68000, Loss: 9.58702183\n",
      "Epoch 1, Iteration 69000, Loss: 9.83085823\n",
      "Epoch 1, Iteration 70000, Loss: 10.12755680\n",
      "Epoch 1, Iteration 71000, Loss: 9.48749542\n",
      "Epoch 1, Iteration 72000, Loss: 10.62724495\n",
      "Epoch 1, Iteration 73000, Loss: 10.30802345\n",
      "Epoch 1, Iteration 74000, Loss: 10.35581970\n",
      "Epoch 1, Iteration 75000, Loss: 10.72463799\n",
      "Epoch 1, Iteration 76000, Loss: 9.97528267\n",
      "Epoch 1, Iteration 77000, Loss: 9.77294350\n",
      "Epoch 1, Iteration 78000, Loss: 9.96071625\n",
      "Epoch 1, Iteration 79000, Loss: 10.38187885\n",
      "Epoch 1, Iteration 80000, Loss: 10.29367924\n",
      "Epoch 1, Iteration 81000, Loss: 9.42279816\n",
      "Epoch 1, Iteration 82000, Loss: 9.70695210\n",
      "Epoch 1, Iteration 83000, Loss: 10.44234562\n",
      "Epoch 1, Iteration 84000, Loss: 10.70829296\n",
      "Epoch 1, Iteration 85000, Loss: 10.13090801\n",
      "Epoch 1, Iteration 86000, Loss: 10.43643379\n",
      "Epoch 1, Iteration 87000, Loss: 10.75802803\n",
      "Epoch 1, Iteration 88000, Loss: 10.40075493\n",
      "Epoch 1, Iteration 89000, Loss: 10.29438972\n",
      "Epoch 1, Iteration 90000, Loss: 10.60072041\n",
      "Epoch 1, Iteration 91000, Loss: 10.16727257\n",
      "Epoch 1, Iteration 92000, Loss: 10.10433578\n",
      "Epoch 1, Iteration 93000, Loss: 10.41770267\n",
      "Epoch 1, Iteration 94000, Loss: 10.55459404\n",
      "Epoch 1, Iteration 95000, Loss: 9.86002350\n",
      "Epoch 1, Iteration 96000, Loss: 10.16949463\n",
      "Epoch 1, Iteration 97000, Loss: 10.21043015\n",
      "Epoch 1, Iteration 98000, Loss: 10.17397308\n",
      "Epoch 1, Iteration 99000, Loss: 10.59647751\n",
      "Epoch 1, Iteration 100000, Loss: 10.38026047\n",
      "Epoch 1, Iteration 101000, Loss: 10.49844837\n",
      "Epoch 1, Iteration 102000, Loss: 10.31711388\n",
      "Epoch 1, Iteration 103000, Loss: 10.53777695\n",
      "Epoch 1, Iteration 104000, Loss: 10.42232132\n",
      "Epoch 1, Iteration 105000, Loss: 10.38399315\n",
      "Epoch 1, Iteration 106000, Loss: 10.47253323\n",
      "Epoch 1, Iteration 107000, Loss: 10.34365940\n",
      "Epoch 1, Iteration 108000, Loss: 10.28038025\n",
      "Epoch 1, Iteration 109000, Loss: 10.51978874\n",
      "Epoch 1, Iteration 110000, Loss: 10.40587807\n",
      "Epoch 1, Iteration 111000, Loss: 10.02141857\n",
      "Epoch 1, Iteration 112000, Loss: 10.63645363\n",
      "Epoch 1, Iteration 113000, Loss: 10.55852127\n",
      "Epoch 1, Iteration 114000, Loss: 10.39761162\n",
      "Epoch 1, Iteration 115000, Loss: 10.81845093\n",
      "Epoch 1, Iteration 116000, Loss: 10.49600601\n",
      "Epoch 1, Iteration 117000, Loss: 10.28810310\n",
      "Epoch 1, Iteration 118000, Loss: 10.06238270\n",
      "Epoch 1, Iteration 119000, Loss: 10.61417770\n",
      "Epoch 1, Iteration 120000, Loss: 10.38339138\n",
      "Epoch 1, Iteration 121000, Loss: 10.49898529\n",
      "Epoch 1, Iteration 122000, Loss: 10.46065903\n",
      "Epoch 1, Iteration 123000, Loss: 10.37641335\n",
      "Epoch 1, Iteration 124000, Loss: 9.94799042\n",
      "Epoch 1, Iteration 125000, Loss: 10.67262268\n",
      "Epoch 1, Iteration 126000, Loss: 10.06445503\n",
      "Epoch 1, Iteration 127000, Loss: 10.37515068\n",
      "Epoch 1, Iteration 128000, Loss: 10.38393211\n",
      "Epoch 1, Iteration 129000, Loss: 10.26518822\n",
      "Epoch 1, Iteration 130000, Loss: 10.43018436\n",
      "Epoch 1, Iteration 131000, Loss: 10.42080688\n",
      "Epoch 1, Iteration 132000, Loss: 10.14175701\n",
      "Epoch 1, Iteration 133000, Loss: 10.64941502\n",
      "Epoch 1, Iteration 134000, Loss: 10.15575409\n"
     ]
    }
   ],
   "source": [
    "# Initialize the model with hyperparameters\n",
    "my_model = EmbeddingLSTM(\n",
    "    num_pc,\n",
    "    num_delta_in,\n",
    "    num_output_next,\n",
    "    hparams[\"embed_dim\"],\n",
    "    hparams[\"hidden_dim\"],\n",
    "    hparams[\"output_dim\"],\n",
    "    topPredNum=hparams[\"topPredNum\"],\n",
    "    num_layers=hparams[\"num_layers\"],\n",
    "    dropout=hparams[\"dropout\"]\n",
    ")\n",
    "\n",
    "# Prepare for training\n",
    "train_loss = []\n",
    "my_model = my_model.to(device)\n",
    "optimizer = torch.optim.Adam(my_model.parameters(), lr=hparams[\"learning_rate\"])\n",
    "\n",
    "# Start training\n",
    "for epoch in range(hparams[\"epochs\"]):\n",
    "    # Switch to training mode\n",
    "    my_model.train()\n",
    "    h_0 = torch.zeros(hparams[\"num_layers\"], batch_size, hparams[\"hidden_dim\"]).to(device)\n",
    "    c_0 = torch.zeros(hparams[\"num_layers\"], batch_size, hparams[\"hidden_dim\"]).to(device)\n",
    "    lstm_state = (h_0, c_0)\n",
    "    for idx, batch in enumerate(train_iter):\n",
    "        batch = [ds.to(device) for ds in batch]\n",
    "        inputs = batch[:-1]\n",
    "        targets = batch[-1]\n",
    "        optimizer.zero_grad()\n",
    "        _, lstm_state, batch_loss = my_model(inputs, lstm_state, targets)\n",
    "        batch_loss.backward()\n",
    "        optimizer.step()\n",
    "        train_loss.append(float(batch_loss.item()))\n",
    "        if idx%1000 == 0:\n",
    "            print(f\"Epoch {epoch + 1}, Iteration {idx}, Loss: {train_loss[-1]:.8f}\")\n",
    "        lstm_state = tuple([s.data for s in lstm_state])    "
   ]
  },
  {
   "cell_type": "code",
   "execution_count": 11,
   "metadata": {
    "scrolled": true
   },
   "outputs": [
    {
     "data": {
      "image/png": "[encoded data removed]",
      "text/plain": [
       "<Figure size 640x480 with 1 Axes>"
      ]
     },
     "metadata": {},
     "output_type": "display_data"
    }
   ],
   "source": [
    "plt.plot(train_loss)\n",
    "plt.title(\"Training Loss Curve\")\n",
    "plt.xlabel(\"Iteration\")\n",
    "plt.ylabel(\"Loss\")\n",
    "plt.show()"
   ]
  },
  {
   "cell_type": "markdown",
   "metadata": {},
   "source": [
    "### Validate the model"
   ]
  },
  {
   "cell_type": "code",
   "execution_count": 12,
   "metadata": {
    "scrolled": true
   },
   "outputs": [
    {
     "name": "stdout",
     "output_type": "stream",
     "text": [
      "Average Validation Accuracy: 0.0557\n"
     ]
    }
   ],
   "source": [
    "def validate_model(network, data_iterator, relevant_keys, computing_device=\"cpu\", initial_state=None):\n",
    "    network.eval()\n",
    "\n",
    "    accuracy_metrics = [process_batch(i, batch_data, network, computing_device, initial_state, relevant_keys) \n",
    "                        for i, batch_data in enumerate(data_iterator)]\n",
    "\n",
    "    average_accuracy = torch.tensor(accuracy_metrics).mean()\n",
    "    print(\"Average Validation Accuracy: {:.4f}\".format(average_accuracy))\n",
    "\n",
    "def process_batch(batch_index, batch_data, network, device, state, keys):\n",
    "    batch_data = [item.to(device) for item in batch_data]\n",
    "    input_data = batch_data[:-1]\n",
    "    labels = batch_data[-1]\n",
    "    labels = torch.argmax(labels, dim = 1)\n",
    "    \n",
    "    predictions, state = network.predict(input_data, state)\n",
    "    accuracy = compute_accuracy(predictions, labels, keys)\n",
    "\n",
    "    return accuracy\n",
    "\n",
    "def compute_accuracy(predictions, labels, keys):\n",
    "    combined_data = list(zip(labels, predictions))\n",
    "    count_correct = sum([1 for label, predicted in combined_data \n",
    "                         if label.item() in keys and label in predicted])\n",
    "    \n",
    "    return count_correct / len(labels)\n",
    "\n",
    "validate_model(my_model, train_iter, target_keys, computing_device=device)\n"
   ]
  },
  {
   "cell_type": "code",
   "execution_count": 13,
   "metadata": {
    "scrolled": true
   },
   "outputs": [
    {
     "name": "stdout",
     "output_type": "stream",
     "text": [
      "Average Validation Accuracy: 0.0476\n"
     ]
    }
   ],
   "source": [
    "validate_model(my_model, test_iter, target_keys, computing_device=device)\n"
   ]
  }
 ],
 "metadata": {
  "kernelspec": {
   "display_name": "Python 3 (ipykernel)",
   "language": "python",
   "name": "python3"
  },
  "language_info": {
   "codemirror_mode": {
    "name": "ipython",
    "version": 3
   },
   "file_extension": ".py",
   "mimetype": "text/x-python",
   "name": "python",
   "nbconvert_exporter": "python",
   "pygments_lexer": "ipython3",
   "version": "3.11.4"
  }
 },
 "nbformat": 4,
 "nbformat_minor": 4
}
